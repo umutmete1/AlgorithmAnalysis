{
 "cells": [
  {
   "cell_type": "code",
   "execution_count": null,
   "metadata": {},
   "outputs": [],
   "source": [
    "import matplotlib as plt\n",
    "import numpy as np \n",
    "import pandas as pd\n",
    "import time\n",
    "\n",
    "def partition(arr, low, high):\n",
    "    i = (low - 1)\n",
    "    pivot = arr[high]\n",
    "    for j in range(low, high):\n",
    "        if arr[j] <= pivot:\n",
    "            i = i + 1\n",
    "            arr[i], arr[j] = arr[j], arr[i]\n",
    "\n",
    "    arr[i + 1], arr[high] = arr[high], arr[i + 1]\n",
    "    return i + 1\n",
    "\n",
    "\n",
    "def quickSort(arr, low, high):\n",
    "    if len(arr) == 1:\n",
    "        return arr\n",
    "    if low < high:\n",
    "        pi = partition(arr, low, high)\n",
    "        quickSort(arr, low, pi - 1)\n",
    "        quickSort(arr, pi + 1, high)\n",
    "\n",
    "\n",
    "def bubbleSort(arr, low, high):\n",
    "    if low == high:\n",
    "        return\n",
    "    else:\n",
    "        length = high + 1\n",
    "        for index in range(0, length):\n",
    "            for index1 in range(0, length - 1):\n",
    "                if arr[index1] > arr[index1 + 1]:\n",
    "                    temp = arr[index1]\n",
    "                    arr[index1] = arr[index1 + 1]\n",
    "                    arr[index1 + 1] = temp\n",
    "        bubbleSort(arr, 0, high - 1)\n",
    "\n",
    "\n",
    "def insertionSort(arr):\n",
    "    for i in range(1, len(arr)):\n",
    "        key = arr[i]\n",
    "        j = i-1\n",
    "        while j >=0 and key < arr[j] :\n",
    "                arr[j+1] = arr[j]\n",
    "                j -= 1\n",
    "        arr[j+1] = key\n",
    "\n",
    "\n",
    "def selectionSort(array, size):\n",
    "   \n",
    "    for step in range(size):\n",
    "        min_idx = step\n",
    "        for i in range(step + 1, size):\n",
    "            if array[i] < array[min_idx]:\n",
    "                min_idx = i\n",
    "        (array[step], array[min_idx]) = (array[min_idx], array[step])\n",
    "\n",
    "\n",
    "def merge(arr, l, m, r):\n",
    "    n1 = m - l + 1\n",
    "    n2 = r - m\n",
    " \n",
    "    \n",
    "    L = [0] * (n1)\n",
    "    R = [0] * (n2)\n",
    " \n",
    "    \n",
    "    for i in range(0, n1):\n",
    "        L[i] = arr[l + i]\n",
    " \n",
    "    for j in range(0, n2):\n",
    "        R[j] = arr[m + 1 + j]\n",
    " \n",
    "    \n",
    "    i = 0     \n",
    "    j = 0     \n",
    "    k = l     \n",
    " \n",
    "    while i < n1 and j < n2:\n",
    "        if L[i] <= R[j]:\n",
    "            arr[k] = L[i]\n",
    "            i += 1\n",
    "        else:\n",
    "            arr[k] = R[j]\n",
    "            j += 1\n",
    "        k += 1\n",
    " \n",
    "    while i < n1:\n",
    "        arr[k] = L[i]\n",
    "        i += 1\n",
    "        k += 1\n",
    " \n",
    "    while j < n2:\n",
    "        arr[k] = R[j]\n",
    "        j += 1\n",
    "        k += 1\n",
    "\n",
    "\n",
    "def mergeSort(arr, l, r):\n",
    "    if l < r:\n",
    " \n",
    "        m = l+(r-l)//2\n",
    " \n",
    "        mergeSort(arr, l, m)\n",
    "        mergeSort(arr, m+1, r)\n",
    "        merge(arr, l, m, r)\n",
    "\n",
    "\n",
    "# Aşşağıdaki measure Fonksiyonları computing time ı milisaniye cinsinden döndürüyor \n",
    "\n",
    "\n",
    "def measureQuickSort(size):\n",
    "    arr = np.random.random(size)\n",
    "    start = time.time()\n",
    "    quickSort(arr,0,size-1)\n",
    "    return int((time.time() - start)*1000)\n",
    "\n",
    "\n",
    "def measureBubbleSort(size):\n",
    "    arr = np.random.random(size)\n",
    "    start = time.time()\n",
    "    bubbleSort(arr,0,size-1)\n",
    "    return int((time.time() - start)*1000)\n",
    "\n",
    "\n",
    "def measureInsertionSort(size):\n",
    "    arr = np.random.random(size)\n",
    "    start = time.time()\n",
    "    insertionSort(arr)\n",
    "    return int((time.time() - start)*1000)\n",
    "\n",
    "\n",
    "def measureSelectionSort(size):\n",
    "    arr = np.random.random(size)\n",
    "    start = time.time()\n",
    "    selectionSort(arr,size)\n",
    "    return int((time.time() - start)*1000)\n",
    "\n",
    "\n",
    "def measureMergeSort(size):\n",
    "    arr = np.random.random(size)\n",
    "    start = time.time()\n",
    "    mergeSort(arr,0,size-1)\n",
    "    return int((time.time() - start)*1000)"
   ]
  },
  {
   "cell_type": "code",
   "execution_count": 2,
   "metadata": {},
   "outputs": [],
   "source": [
    "import matplotlib.pyplot as plt "
   ]
  },
  {
   "cell_type": "code",
   "execution_count": 3,
   "metadata": {},
   "outputs": [],
   "source": [
    "myTimeData = {\n",
    "    'QuickSort':[measureQuickSort(1000),measureQuickSort(5000),measureQuickSort(15000),measureQuickSort(30000),0],\n",
    "    'BubbleSort':[measureBubbleSort(1000),0,0,0,0],\n",
    "    'InsertionSort':[measureInsertionSort(1000),measureInsertionSort(5000),measureInsertionSort(15000),measureInsertionSort(30000),measureInsertionSort(70000)],\n",
    "    'MergeSort':[measureMergeSort(1000),measureMergeSort(5000),measureMergeSort(15000),measureMergeSort(30000),measureMergeSort(70000)],\n",
    "    'SelectionSort':[measureSelectionSort(1000),measureSelectionSort(5000),measureSelectionSort(15000),measureSelectionSort(30000),0]\n",
    "}"
   ]
  },
  {
   "cell_type": "code",
   "execution_count": 4,
   "metadata": {},
   "outputs": [],
   "source": [
    "myTime = pd.DataFrame(myTimeData)"
   ]
  },
  {
   "cell_type": "code",
   "execution_count": 5,
   "metadata": {},
   "outputs": [
    {
     "data": {
      "text/html": [
       "<div>\n",
       "<style scoped>\n",
       "    .dataframe tbody tr th:only-of-type {\n",
       "        vertical-align: middle;\n",
       "    }\n",
       "\n",
       "    .dataframe tbody tr th {\n",
       "        vertical-align: top;\n",
       "    }\n",
       "\n",
       "    .dataframe thead th {\n",
       "        text-align: right;\n",
       "    }\n",
       "</style>\n",
       "<table border=\"1\" class=\"dataframe\">\n",
       "  <thead>\n",
       "    <tr style=\"text-align: right;\">\n",
       "      <th></th>\n",
       "      <th>QuickSort</th>\n",
       "      <th>BubbleSort</th>\n",
       "      <th>InsertionSort</th>\n",
       "      <th>MergeSort</th>\n",
       "      <th>SelectionSort</th>\n",
       "    </tr>\n",
       "  </thead>\n",
       "  <tbody>\n",
       "    <tr>\n",
       "      <th>0</th>\n",
       "      <td>7</td>\n",
       "      <td>93027</td>\n",
       "      <td>134</td>\n",
       "      <td>7</td>\n",
       "      <td>120</td>\n",
       "    </tr>\n",
       "    <tr>\n",
       "      <th>1</th>\n",
       "      <td>36</td>\n",
       "      <td>0</td>\n",
       "      <td>3007</td>\n",
       "      <td>39</td>\n",
       "      <td>3086</td>\n",
       "    </tr>\n",
       "    <tr>\n",
       "      <th>2</th>\n",
       "      <td>119</td>\n",
       "      <td>0</td>\n",
       "      <td>23461</td>\n",
       "      <td>126</td>\n",
       "      <td>29482</td>\n",
       "    </tr>\n",
       "    <tr>\n",
       "      <th>3</th>\n",
       "      <td>228</td>\n",
       "      <td>0</td>\n",
       "      <td>93328</td>\n",
       "      <td>274</td>\n",
       "      <td>107889</td>\n",
       "    </tr>\n",
       "    <tr>\n",
       "      <th>4</th>\n",
       "      <td>0</td>\n",
       "      <td>0</td>\n",
       "      <td>529630</td>\n",
       "      <td>679</td>\n",
       "      <td>0</td>\n",
       "    </tr>\n",
       "  </tbody>\n",
       "</table>\n",
       "</div>"
      ],
      "text/plain": [
       "   QuickSort  BubbleSort  InsertionSort  MergeSort  SelectionSort\n",
       "0          7       93027            134          7            120\n",
       "1         36           0           3007         39           3086\n",
       "2        119           0          23461        126          29482\n",
       "3        228           0          93328        274         107889\n",
       "4          0           0         529630        679              0"
      ]
     },
     "execution_count": 5,
     "metadata": {},
     "output_type": "execute_result"
    }
   ],
   "source": [
    "myTime"
   ]
  },
  {
   "cell_type": "code",
   "execution_count": 6,
   "metadata": {},
   "outputs": [
    {
     "data": {
      "text/plain": [
       "<AxesSubplot:>"
      ]
     },
     "execution_count": 6,
     "metadata": {},
     "output_type": "execute_result"
    },
    {
     "data": {
      "image/png": "[encoded data removed]",
      "text/plain": [
       "<Figure size 432x288 with 1 Axes>"
      ]
     },
     "metadata": {
      "needs_background": "light"
     },
     "output_type": "display_data"
    }
   ],
   "source": [
    "myTime.plot()"
   ]
  },
  {
   "cell_type": "code",
   "execution_count": 7,
   "metadata": {},
   "outputs": [],
   "source": [
    "# 0 yazdığım kısımları hesaplaması çok uzun sürdüğü için yazdım bubblesort algoritmasında 5000 input sayısında hesaplaması\n",
    "# 112 dakikadan fazla sürüyor  \n"
   ]
  },
  {
   "cell_type": "code",
   "execution_count": 8,
   "metadata": {},
   "outputs": [],
   "source": [
    "myTime = pd.DataFrame(myTimeData,index = [1000,5000,15000,30000,70000])"
   ]
  },
  {
   "cell_type": "code",
   "execution_count": 9,
   "metadata": {},
   "outputs": [
    {
     "data": {
      "text/html": [
       "<div>\n",
       "<style scoped>\n",
       "    .dataframe tbody tr th:only-of-type {\n",
       "        vertical-align: middle;\n",
       "    }\n",
       "\n",
       "    .dataframe tbody tr th {\n",
       "        vertical-align: top;\n",
       "    }\n",
       "\n",
       "    .dataframe thead th {\n",
       "        text-align: right;\n",
       "    }\n",
       "</style>\n",
       "<table border=\"1\" class=\"dataframe\">\n",
       "  <thead>\n",
       "    <tr style=\"text-align: right;\">\n",
       "      <th></th>\n",
       "      <th>QuickSort</th>\n",
       "      <th>BubbleSort</th>\n",
       "      <th>InsertionSort</th>\n",
       "      <th>MergeSort</th>\n",
       "      <th>SelectionSort</th>\n",
       "    </tr>\n",
       "  </thead>\n",
       "  <tbody>\n",
       "    <tr>\n",
       "      <th>1000</th>\n",
       "      <td>7</td>\n",
       "      <td>93027</td>\n",
       "      <td>134</td>\n",
       "      <td>7</td>\n",
       "      <td>120</td>\n",
       "    </tr>\n",
       "    <tr>\n",
       "      <th>5000</th>\n",
       "      <td>36</td>\n",
       "      <td>0</td>\n",
       "      <td>3007</td>\n",
       "      <td>39</td>\n",
       "      <td>3086</td>\n",
       "    </tr>\n",
       "    <tr>\n",
       "      <th>15000</th>\n",
       "      <td>119</td>\n",
       "      <td>0</td>\n",
       "      <td>23461</td>\n",
       "      <td>126</td>\n",
       "      <td>29482</td>\n",
       "    </tr>\n",
       "    <tr>\n",
       "      <th>30000</th>\n",
       "      <td>228</td>\n",
       "      <td>0</td>\n",
       "      <td>93328</td>\n",
       "      <td>274</td>\n",
       "      <td>107889</td>\n",
       "    </tr>\n",
       "    <tr>\n",
       "      <th>70000</th>\n",
       "      <td>0</td>\n",
       "      <td>0</td>\n",
       "      <td>529630</td>\n",
       "      <td>679</td>\n",
       "      <td>0</td>\n",
       "    </tr>\n",
       "  </tbody>\n",
       "</table>\n",
       "</div>"
      ],
      "text/plain": [
       "       QuickSort  BubbleSort  InsertionSort  MergeSort  SelectionSort\n",
       "1000           7       93027            134          7            120\n",
       "5000          36           0           3007         39           3086\n",
       "15000        119           0          23461        126          29482\n",
       "30000        228           0          93328        274         107889\n",
       "70000          0           0         529630        679              0"
      ]
     },
     "execution_count": 9,
     "metadata": {},
     "output_type": "execute_result"
    }
   ],
   "source": [
    "myTime"
   ]
  },
  {
   "cell_type": "code",
   "execution_count": 10,
   "metadata": {},
   "outputs": [
    {
     "data": {
      "text/plain": [
       "<AxesSubplot:>"
      ]
     },
     "execution_count": 10,
     "metadata": {},
     "output_type": "execute_result"
    },
    {
     "data": {
      "image/png": "[encoded data removed]",
      "text/plain": [
       "<Figure size 432x288 with 1 Axes>"
      ]
     },
     "metadata": {
      "needs_background": "light"
     },
     "output_type": "display_data"
    }
   ],
   "source": [
    "myTime.plot()"
   ]
  },
  {
   "cell_type": "markdown",
   "metadata": {},
   "source": [
    "Umut Mete 202028405 :)"
   ]
  }
 ],
 "metadata": {
  "interpreter": {
   "hash": "380030d1298d5a27518acca789ff38fe82bbf2e68b73263de6a6bf23efb7704c"
  },
  "kernelspec": {
   "display_name": "Python 3.9.7 ('base')",
   "language": "python",
   "name": "python3"
  },
  "language_info": {
   "codemirror_mode": {
    "name": "ipython",
    "version": 3
   },
   "file_extension": ".py",
   "mimetype": "text/x-python",
   "name": "python",
   "nbconvert_exporter": "python",
   "pygments_lexer": "ipython3",
   "version": "3.10.2"
  },
  "orig_nbformat": 4
 },
 "nbformat": 4,
 "nbformat_minor": 2
}
